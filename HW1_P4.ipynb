{
  "nbformat": 4,
  "nbformat_minor": 0,
  "metadata": {
    "colab": {
      "name": "HW1 P4.ipynb",
      "provenance": [],
      "authorship_tag": "ABX9TyPDt8HtMNZaIZQL6kEKz5LS",
      "include_colab_link": true
    },
    "kernelspec": {
      "name": "python3",
      "display_name": "Python 3"
    },
    "language_info": {
      "name": "python"
    }
  },
  "cells": [
    {
      "cell_type": "markdown",
      "metadata": {
        "id": "view-in-github",
        "colab_type": "text"
      },
      "source": [
        "<a href=\"https://colab.research.google.com/github/TFremon/CHE-2064/blob/main/HW1_P4.ipynb\" target=\"_parent\"><img src=\"https://colab.research.google.com/assets/colab-badge.svg\" alt=\"Open In Colab\"/></a>"
      ]
    },
    {
      "cell_type": "code",
      "source": [
        "#!git clone --depth 1 https://github.com/profteachkids/chetools.git\n",
        "import sys\n",
        "sys.path.insert(1, '/content/chetools')"
      ],
      "metadata": {
        "id": "386GIWyvgSWS"
      },
      "execution_count": null,
      "outputs": []
    },
    {
      "cell_type": "code",
      "source": [
        "import tools.che as che\n",
        "from scipy.optimize import root\n"
      ],
      "metadata": {
        "id": "psoIV1jihGqB"
      },
      "execution_count": null,
      "outputs": []
    },
    {
      "cell_type": "code",
      "source": [
        "R = 8.314 #J/(mol*k)"
      ],
      "metadata": {
        "id": "WI6HhoWEhMnA"
      },
      "execution_count": null,
      "outputs": []
    },
    {
      "cell_type": "code",
      "source": [
        "p=che.Props(['Water'])\n",
        "Pf_desired = 200000\n",
        "Pi = 101325\n",
        "Ti = 298\n",
        "mw_tot = 1 \n",
        "nw_v_desire = 0.3"
      ],
      "metadata": {
        "id": "t2IDIqk_izxl"
      },
      "execution_count": null,
      "outputs": []
    },
    {
      "cell_type": "code",
      "source": [
        "def eqs(v):\n",
        "  Vtot, Tf = v\n",
        "  Pw = p.Pvap(Tf)\n",
        "  n_air = (Pi-p.Pvap(Ti))*(Vtot-mw_tot/p.rhol(Ti))/(R*Ti)\n",
        "  mw_liq=mw_tot- (nw_v_desired*18e-3)\n",
        "  Vliq=mw_liq/p.rhol(Tf)\n",
        "  Vvap = Vtot - Vliq\n",
        "  Pair = n_air * R * Tf/Vvap\n",
        "  Pf = Pw + Pair\n",
        "  nw_v = Pw*Vvap/(R*Tf)\n",
        "\n",
        "  return[Pf-Pf_desired, nw_v-nw_v_desired]\n",
        "\n"
      ],
      "metadata": {
        "id": "0_vRfiLtkZa1"
      },
      "execution_count": null,
      "outputs": []
    },
    {
      "cell_type": "code",
      "source": [
        "root(eqs, [1., 350.]).x"
      ],
      "metadata": {
        "colab": {
          "base_uri": "https://localhost:8080/"
        },
        "id": "-pDm92DptvWZ",
        "outputId": "6b8da06c-33a1-4041-a682-5caab6243711"
      },
      "execution_count": null,
      "outputs": [
        {
          "output_type": "execute_result",
          "data": {
            "text/plain": [
              "array([1.25633582e-02, 3.66365445e+02])"
            ]
          },
          "metadata": {},
          "execution_count": 52
        }
      ]
    }
  ]
}